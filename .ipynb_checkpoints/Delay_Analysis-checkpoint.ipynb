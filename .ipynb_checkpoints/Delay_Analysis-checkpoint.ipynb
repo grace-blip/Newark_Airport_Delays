{
 "cells": [
  {
   "cell_type": "markdown",
   "id": "2109dfd3-ecc4-4b07-a30b-771fb63fa2c0",
   "metadata": {},
   "source": [
    "# Newark Flight Delay Analysis \n"
   ]
  },
  {
   "cell_type": "code",
   "execution_count": 2,
   "id": "2f339a7a-7116-421f-8e72-2c9687fe6772",
   "metadata": {},
   "outputs": [],
   "source": [
    "#import packages\n",
    "import pandas as pd"
   ]
  },
  {
   "cell_type": "code",
   "execution_count": 9,
   "id": "6b086cd2-9438-4143-8f24-8f41a55eac28",
   "metadata": {},
   "outputs": [],
   "source": [
    "#import data\n",
    "united_df = pd.read_csv('Delay_Data/United_Airlines.csv', skiprows = 6)\n",
    "american_df = pd.read_csv('Delay_Data/American_Airlines.csv', skiprows = 6)\n",
    "spirit_df = pd.read_csv('Delay_Data/Spirit_Airlines.csv', skiprows = 6)\n",
    "frontier_df = pd.read_csv('Delay_Data/Frontier_Airlines.csv', skiprows = 6)"
   ]
  }
 ],
 "metadata": {
  "kernelspec": {
   "display_name": "Python 3 (ipykernel)",
   "language": "python",
   "name": "python3"
  },
  "language_info": {
   "codemirror_mode": {
    "name": "ipython",
    "version": 3
   },
   "file_extension": ".py",
   "mimetype": "text/x-python",
   "name": "python",
   "nbconvert_exporter": "python",
   "pygments_lexer": "ipython3",
   "version": "3.12.4"
  }
 },
 "nbformat": 4,
 "nbformat_minor": 5
}
